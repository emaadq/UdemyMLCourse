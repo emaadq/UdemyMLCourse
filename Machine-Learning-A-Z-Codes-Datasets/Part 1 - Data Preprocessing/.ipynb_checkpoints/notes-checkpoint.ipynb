{
 "cells": [
  {
   "cell_type": "markdown",
   "metadata": {},
   "source": []
  },
  {
   "cell_type": "markdown",
   "metadata": {},
   "source": [
    "Feature Scaling:\n",
    "1) Normalization: \n",
    "image.png\n",
    "image.png\n",
    "image.png\n",
    "\n",
    "2) Standardization:"
   ]
  },
  {
   "cell_type": "markdown",
   "metadata": {},
   "source": [
    "Machine Learning Process:\n",
    "1) Data Pre-Processing: import the data, clean it, and split into training/test sets \n",
    "2) Modelling: build the model, train it, then make predictions\n",
    "3) Evaluation: calculate performance metrics, then make a verdict/conclusion\n"
   ]
  }
 ],
 "metadata": {
  "language_info": {
   "name": "python"
  }
 },
 "nbformat": 4,
 "nbformat_minor": 2
}
